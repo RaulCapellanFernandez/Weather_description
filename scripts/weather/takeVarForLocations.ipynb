{
 "cells": [
  {
   "cell_type": "code",
   "execution_count": 1,
   "id": "a7602678",
   "metadata": {},
   "outputs": [],
   "source": [
    "from datetime import timedelta as td\n",
    "from datetime import datetime as dt\n",
    "from glob import glob\n",
    "import pandas as pd\n",
    "import xarray as xr\n",
    "import numpy as np\n",
    "import json\n",
    "import os"
   ]
  },
  {
   "cell_type": "code",
   "execution_count": 2,
   "id": "216b302b",
   "metadata": {},
   "outputs": [],
   "source": [
    "PATH_RESOURCES = os.path.join('..', '..', 'resources')\n",
    "PATH_LOCATIONS = os.path.join(PATH_RESOURCES, 'utils', 'locations-webcam.json')\n",
    "PATH_CSV       = os.path.join(PATH_RESOURCES, 'utils', 'images_ibericam_config.csv')\n",
    "PATH_RESULT    = os.path.join(PATH_RESOURCES, 'utils', 'images_weather_data.csv')\n",
    "PATH_VARIABLES = os.path.join(PATH_RESOURCES, 'reanalysis-era5-single-levels')\n",
    "LOCATIONS      = json.load(open(PATH_LOCATIONS))"
   ]
  },
  {
   "cell_type": "code",
   "execution_count": 3,
   "id": "ab1080b1",
   "metadata": {},
   "outputs": [],
   "source": [
    "def closestValuesToLocation(lat, lon, date, ds):\n",
    "    date     = dt.strptime(date, \"%d-%m-%Y_%H:%M\")\n",
    "\n",
    "    idx_close_dt = np.argmin(np.abs(ds.time.values - np.datetime64(date)))\n",
    "    close_dt     = ds.time.values[idx_close_dt]\n",
    "\n",
    "    close_lat    = ds.latitude[np.argmin(np.abs(lat - ds.latitude.values))].values\n",
    "    close_lon    = ds.longitude[np.argmin(np.abs(lon - ds.longitude.values))].values\n",
    "\n",
    "    ds = ds.sel(time=close_dt, latitude=close_lat, longitude=close_lon)\n",
    "    \n",
    "    dic_result = {\n",
    "            'lat'  : lat,\n",
    "            'lon'  : lon,\n",
    "            'date' : date\n",
    "        }\n",
    "    \n",
    "    for key in list(ds.data_vars.keys()):\n",
    "        dic_result[key] = ds[key].values\n",
    "    \n",
    "    return dic_result"
   ]
  },
  {
   "cell_type": "code",
   "execution_count": 4,
   "id": "63ee342c-6f0e-46a7-a10f-47ed475db5ec",
   "metadata": {},
   "outputs": [],
   "source": [
    "def generateDataFrameImages() :\n",
    "    df_csv        = pd.read_csv(PATH_CSV)\n",
    "    vars_weather  = variables = [os.path.basename(os.path.dirname(path)) for path in glob(os.path.join(PATH_VARIABLES, '*', '')) if os.path.basename(os.path.dirname(path)) != 'complete_files']\n",
    "    location_json = json.load(open(PATH_LOCATIONS))\n",
    "    list_result     = list()\n",
    "    \n",
    "    for index, row in df_csv.iterrows() :\n",
    "        lat_lon = next((loc for loc in location_json['locations'] if loc['id'] == row['location']), None)\n",
    "        aux_dic = {\n",
    "            'location': row['location'],\n",
    "            'lat': lat_lon['lat'],\n",
    "            'lon': lat_lon['lon'],\n",
    "            'date_time': row['date_time'],\n",
    "            'path_image': row['path']\n",
    "        }\n",
    "    \n",
    "        for var in vars_weather :\n",
    "            var_aux_path = os.path.join(PATH_VARIABLES, var, f'{var}_{row.year}-{row.month}.nc')\n",
    "            ds_aux       = xr.open_dataset(var_aux_path, engine='netcdf4')\n",
    "            date_aux     = dt.strptime(row.date_time, '%Y-%m-%d %H:%M:%S').strftime('%d-%m-%Y_%H:%M')\n",
    "            \n",
    "            var_result   = closestValuesToLocation(lat_lon['lat'], lat_lon['lon'], date_aux, ds_aux)\n",
    "            name_var     = list(var_result.keys())[-1]\n",
    "            aux_dic[name_var] = var_result[name_var]\n",
    "    \n",
    "        list_result.append(aux_dic)\n",
    "\n",
    "    return list_result"
   ]
  },
  {
   "cell_type": "code",
   "execution_count": 5,
   "id": "2d0ddbc0-791f-480b-983e-c6f71f0f03b5",
   "metadata": {},
   "outputs": [
    {
     "name": "stdout",
     "output_type": "stream",
     "text": [
      "CPU times: total: 46.6 s\n",
      "Wall time: 6min 52s\n"
     ]
    }
   ],
   "source": [
    "%%time\n",
    "if __name__ == '__main__' :\n",
    "    df = pd.DataFrame(generateDataFrameImages())\n",
    "    df.to_csv(PATH_RESULT, index=False)"
   ]
  }
 ],
 "metadata": {
  "kernelspec": {
   "display_name": "Python 3 (ipykernel)",
   "language": "python",
   "name": "python3"
  },
  "language_info": {
   "codemirror_mode": {
    "name": "ipython",
    "version": 3
   },
   "file_extension": ".py",
   "mimetype": "text/x-python",
   "name": "python",
   "nbconvert_exporter": "python",
   "pygments_lexer": "ipython3",
   "version": "3.12.3"
  }
 },
 "nbformat": 4,
 "nbformat_minor": 5
}
