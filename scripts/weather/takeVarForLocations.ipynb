{
 "cells": [
  {
   "cell_type": "code",
   "execution_count": 1,
   "id": "a7602678",
   "metadata": {},
   "outputs": [],
   "source": [
    "from datetime import timedelta as td\n",
    "import datetime as dt\n",
    "import pandas as pd\n",
    "import xarray as xr\n",
    "import numpy as np\n",
    "import json\n",
    "import os"
   ]
  },
  {
   "cell_type": "code",
   "execution_count": 2,
   "id": "216b302b",
   "metadata": {},
   "outputs": [],
   "source": [
    "PATH_RESOURCES = os.path.join('..', '..', 'resources')\n",
    "PATH_LOCATIONS = os.path.join(PATH_RESOURCES, 'utils', 'locations-webcam.json')\n",
    "PATH_VARIABLES = os.path.join(PATH_RESOURCES, 'reanalysis-era5-single-levels')\n",
    "LOCATIONS      = json.load(open(PATH_LOCATIONS))"
   ]
  },
  {
   "cell_type": "code",
   "execution_count": 3,
   "id": "ab1080b1",
   "metadata": {},
   "outputs": [],
   "source": [
    "def closestValuesToLocation(lat, lon, date, ds):\n",
    "    date     = dt.datetime.strptime(date, \"%d-%m-%Y_%H:%M\")\n",
    "\n",
    "    idx_close_dt = np.argmin(np.abs(ds.time.values - np.datetime64(date)))\n",
    "    close_dt     = ds.time.values[idx_close_dt]\n",
    "\n",
    "    close_lat    = ds.latitude[np.argmin(np.abs(lat - ds.latitude.values))].values\n",
    "    close_lon    = ds.longitude[np.argmin(np.abs(lon - ds.longitude.values))].values\n",
    "\n",
    "    ds = ds.sel(time=close_dt, latitude=close_lat, longitude=close_lon)\n",
    "    \n",
    "    dic_result = {\n",
    "            'lat'  : lat,\n",
    "            'lon'  : lon,\n",
    "            'date' : date\n",
    "        }\n",
    "    \n",
    "    for key in list(ds.data_vars.keys()):\n",
    "        dic_result[key] = ds[key].values\n",
    "    \n",
    "    return dic_result"
   ]
  },
  {
   "cell_type": "code",
   "execution_count": 4,
   "id": "27874b4e",
   "metadata": {},
   "outputs": [],
   "source": [
    "path_aux = os.path.join(PATH_VARIABLES, \"cloud_base_height\", \"cloud_base_height_1_2024_hourly.netcdf\")\n",
    "\n",
    "lat      = LOCATIONS['locations'][0]['lat']\n",
    "lon      = LOCATIONS['locations'][0]['lon']\n",
    "date     = \"01-03-2024_12:00\"\n",
    "ds       = xr.open_dataset(path_aux, engine='netcdf4')"
   ]
  },
  {
   "cell_type": "code",
   "execution_count": 6,
   "id": "26b7a47f",
   "metadata": {},
   "outputs": [
    {
     "data": {
      "text/plain": [
       "{'lat': 42.33998,\n",
       " 'lon': -3.70373,\n",
       " 'date': datetime.datetime(2024, 3, 1, 12, 0),\n",
       " 'cbh': array(4543.61861958)}"
      ]
     },
     "execution_count": 6,
     "metadata": {},
     "output_type": "execute_result"
    }
   ],
   "source": [
    "dic = closestValuesToLocation(lat, lon, date, ds)\n",
    "dic"
   ]
  },
  {
   "cell_type": "code",
   "execution_count": null,
   "id": "14cf18d4",
   "metadata": {},
   "outputs": [],
   "source": []
  }
 ],
 "metadata": {
  "kernelspec": {
   "display_name": "Python 3 (ipykernel)",
   "language": "python",
   "name": "python3"
  },
  "language_info": {
   "codemirror_mode": {
    "name": "ipython",
    "version": 3
   },
   "file_extension": ".py",
   "mimetype": "text/x-python",
   "name": "python",
   "nbconvert_exporter": "python",
   "pygments_lexer": "ipython3",
   "version": "3.12.3"
  }
 },
 "nbformat": 4,
 "nbformat_minor": 5
}
