{
 "cells": [
  {
   "cell_type": "code",
   "execution_count": 1,
   "id": "4bbbc88f",
   "metadata": {},
   "outputs": [],
   "source": [
    "import datetime as dt\n",
    "import pandas as pd\n",
    "import calendar\n",
    "import cdsapi\n",
    "import json\n",
    "import os"
   ]
  },
  {
   "cell_type": "code",
   "execution_count": 2,
   "id": "9ed98646",
   "metadata": {},
   "outputs": [],
   "source": [
    "PATH_RESOURCES = os.path.join('..', '..', 'resources')\n",
    "PATH_ERA5      = os.path.join(PATH_RESOURCES, 'utils', 'era5-config.json')\n",
    "CONFIG_ERA5    = json.load(open(PATH_ERA5))"
   ]
  },
  {
   "cell_type": "code",
   "execution_count": 3,
   "id": "cb6b9093",
   "metadata": {},
   "outputs": [],
   "source": [
    "def downloadEra5Data (var, month, year):\n",
    "    \n",
    "    path_out       = os.path.join(PATH_RESOURCES, CONFIG_ERA5['name'], var,\n",
    "                        f'{var}_{month}_{year}_hourly.{CONFIG_ERA5['format']}')\n",
    "    \n",
    "    if not os.path.isdir(os.path.dirname(path_out)):\n",
    "        os.makedirs(os.path.dirname(path_out))\n",
    "    \n",
    "    list_days   = [f\"{day:02}\" for day in range(1, calendar.monthrange(2024, 2)[1] + 1)]\n",
    "    list_hours  = [f\"{hour:02}:00\" for hour in range(24)]\n",
    "\n",
    "\n",
    "    c = cdsapi.Client()\n",
    "    c.retrieve(\n",
    "        CONFIG_ERA5['name'],\n",
    "        {\n",
    "            'product_type': CONFIG_ERA5['product_type'],\n",
    "            'format'      : CONFIG_ERA5['format'],\n",
    "            'variable'    : var,\n",
    "            'year'        : year,\n",
    "            'month'       : month,\n",
    "            'day'         : list_days,\n",
    "            'time'        : list_hours,\n",
    "            'area'        : CONFIG_ERA5['area']\n",
    "        },\n",
    "        path_out)"
   ]
  },
  {
   "cell_type": "code",
   "execution_count": 4,
   "id": "256afb4f",
   "metadata": {},
   "outputs": [],
   "source": [
    "def main():\n",
    "    for var in CONFIG_ERA5['variable']:\n",
    "        for year in CONFIG_ERA5['year']:\n",
    "            for month in CONFIG_ERA5['month']:\n",
    "                downloadEra5Data(var, int(month), int(year))"
   ]
  },
  {
   "cell_type": "code",
   "execution_count": null,
   "id": "b5263386",
   "metadata": {},
   "outputs": [
    {
     "name": "stderr",
     "output_type": "stream",
     "text": [
      "2024-05-08 19:53:23,444 INFO Welcome to the CDS\n",
      "2024-05-08 19:53:23,455 INFO Sending request to https://cds.climate.copernicus.eu/api/v2/resources/reanalysis-era5-single-levels\n",
      "2024-05-08 19:53:23,629 INFO Request is completed\n",
      "2024-05-08 19:53:23,630 INFO Downloading https://download-0018.copernicus-climate.eu/cache-compute-0018/cache/data8/adaptor.mars.internal-1715190486.0660694-11174-15-862900fa-8cac-497f-80a0-65ecea372436.nc to ..\\..\\resources\\reanalysis-era5-single-levels\\cloud_base_height\\cloud_base_height_1_2024_hourly.netcdf (13.2M)\n",
      "2024-05-08 19:53:26,896 INFO Download rate 4M/s                                                                        \n",
      "2024-05-08 19:53:26,986 INFO Welcome to the CDS\n",
      "2024-05-08 19:53:26,987 INFO Sending request to https://cds.climate.copernicus.eu/api/v2/resources/reanalysis-era5-single-levels\n",
      "2024-05-08 19:53:27,206 INFO Request is completed\n",
      "2024-05-08 19:53:27,208 INFO Downloading https://download-0010-clone.copernicus-climate.eu/cache-compute-0010/cache/data6/adaptor.mars.internal-1715190700.9758403-11449-3-de300fab-02b9-43b5-a749-6f1a6bb0165d.nc to ..\\..\\resources\\reanalysis-era5-single-levels\\cloud_base_height\\cloud_base_height_2_2024_hourly.netcdf (13.2M)\n",
      "2024-05-08 19:53:29,135 INFO Download rate 6.9M/s                                                                      \n",
      "2024-05-08 19:53:29,226 INFO Welcome to the CDS\n",
      "2024-05-08 19:53:29,227 INFO Sending request to https://cds.climate.copernicus.eu/api/v2/resources/reanalysis-era5-single-levels\n",
      "2024-05-08 19:53:29,326 INFO Request is completed\n",
      "2024-05-08 19:53:29,329 INFO Downloading https://download-0013-clone.copernicus-climate.eu/cache-compute-0013/cache/data8/adaptor.mars.internal-1715190751.9537587-19357-1-c5bff35c-2675-4f63-838a-f29a64fabc5d.nc to ..\\..\\resources\\reanalysis-era5-single-levels\\cloud_base_height\\cloud_base_height_3_2024_hourly.netcdf (26.4M)\n",
      "2024-05-08 19:53:36,088 INFO Download rate 3.9M/s                                                                      \n",
      "2024-05-08 19:53:36,188 INFO Welcome to the CDS\n",
      "2024-05-08 19:53:36,188 INFO Sending request to https://cds.climate.copernicus.eu/api/v2/resources/reanalysis-era5-single-levels\n",
      "2024-05-08 19:53:36,288 INFO Request is queued\n",
      "2024-05-08 19:53:37,538 INFO Request is running\n",
      "2024-05-08 19:54:26,563 INFO Request is completed\n",
      "2024-05-08 19:54:26,564 INFO Downloading https://download-0018.copernicus-climate.eu/cache-compute-0018/cache/data0/adaptor.mars.internal-1715190857.480146-11229-19-34ec3e66-9280-4711-b833-5c2340573715.nc to ..\\..\\resources\\reanalysis-era5-single-levels\\cloud_base_height\\cloud_base_height_4_2024_hourly.netcdf (13.2M)\n",
      "2024-05-08 19:54:31,926 INFO Download rate 2.5M/s                                                                      \n",
      "2024-05-08 19:54:32,023 INFO Welcome to the CDS\n",
      "2024-05-08 19:54:32,023 INFO Sending request to https://cds.climate.copernicus.eu/api/v2/resources/reanalysis-era5-single-levels\n",
      "2024-05-08 19:54:32,114 INFO Request is queued\n",
      "2024-05-08 19:54:33,175 INFO Request is running\n",
      "2024-05-08 19:55:05,572 INFO Request is completed\n",
      "2024-05-08 19:55:05,572 INFO Downloading https://download-0009-clone.copernicus-climate.eu/cache-compute-0009/cache/data3/adaptor.mars.internal-1715190898.1450438-26337-6-b66c8271-1bb3-451b-8a7c-7ad1d4cae387.nc to ..\\..\\resources\\reanalysis-era5-single-levels\\high_cloud_cover\\high_cloud_cover_1_2024_hourly.netcdf (13.2M)\n",
      "2024-05-08 19:55:06,763 INFO Download rate 11.1M/s                                                                     \n",
      "2024-05-08 19:55:06,850 INFO Welcome to the CDS\n",
      "2024-05-08 19:55:06,851 INFO Sending request to https://cds.climate.copernicus.eu/api/v2/resources/reanalysis-era5-single-levels\n",
      "2024-05-08 19:55:06,915 INFO Request is queued\n",
      "2024-05-08 19:55:07,969 INFO Request is running\n",
      "2024-05-08 19:55:39,774 INFO Request is completed\n",
      "2024-05-08 19:55:39,775 INFO Downloading https://download-0020.copernicus-climate.eu/cache-compute-0020/cache/data0/adaptor.mars.internal-1715190937.0385902-31002-7-3c8e74ca-b0d2-4a38-a714-2cc7e0574133.nc to ..\\..\\resources\\reanalysis-era5-single-levels\\high_cloud_cover\\high_cloud_cover_2_2024_hourly.netcdf (13.2M)\n",
      "2024-05-08 19:55:42,282 INFO Download rate 5.3M/s                                                                      \n",
      "2024-05-08 19:55:42,365 INFO Welcome to the CDS\n",
      "2024-05-08 19:55:42,366 INFO Sending request to https://cds.climate.copernicus.eu/api/v2/resources/reanalysis-era5-single-levels\n",
      "2024-05-08 19:55:42,480 INFO Request is queued\n",
      "2024-05-08 19:55:43,660 INFO Request is running\n",
      "2024-05-08 19:56:15,590 INFO Request is completed\n",
      "2024-05-08 19:56:15,591 INFO Downloading https://download-0018.copernicus-climate.eu/cache-compute-0018/cache/data4/adaptor.mars.internal-1715190970.4543805-20622-4-6fbe53a1-4bb4-4a38-adc3-3de55bbc5243.nc to ..\\..\\resources\\reanalysis-era5-single-levels\\high_cloud_cover\\high_cloud_cover_3_2024_hourly.netcdf (13.2M)\n",
      "2024-05-08 19:56:25,668 INFO Download rate 1.3M/s                                                                      \n",
      "2024-05-08 19:56:25,754 INFO Welcome to the CDS\n",
      "2024-05-08 19:56:25,755 INFO Sending request to https://cds.climate.copernicus.eu/api/v2/resources/reanalysis-era5-single-levels\n",
      "2024-05-08 19:56:25,986 INFO Request is queued\n",
      "2024-05-08 19:56:27,028 INFO Request is running\n"
     ]
    }
   ],
   "source": [
    "# if __name__ == '__main__':\n",
    "#     main()\n",
    "main()"
   ]
  }
 ],
 "metadata": {
  "kernelspec": {
   "display_name": "Python 3 (ipykernel)",
   "language": "python",
   "name": "python3"
  },
  "language_info": {
   "codemirror_mode": {
    "name": "ipython",
    "version": 3
   },
   "file_extension": ".py",
   "mimetype": "text/x-python",
   "name": "python",
   "nbconvert_exporter": "python",
   "pygments_lexer": "ipython3",
   "version": "3.12.3"
  }
 },
 "nbformat": 4,
 "nbformat_minor": 5
}
