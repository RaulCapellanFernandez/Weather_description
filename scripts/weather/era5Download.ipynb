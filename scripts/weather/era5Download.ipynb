{
 "cells": [
  {
   "cell_type": "code",
   "execution_count": 44,
   "id": "4bbbc88f",
   "metadata": {},
   "outputs": [],
   "source": [
    "import datetime as dt\n",
    "import pandas as pd\n",
    "import cdsapi\n",
    "import json\n",
    "import os"
   ]
  },
  {
   "cell_type": "code",
   "execution_count": 45,
   "id": "9ed98646",
   "metadata": {},
   "outputs": [],
   "source": [
    "PATH_RESOURCES = os.path.join('..', '..', 'resources')\n",
    "PATH_ERA5      = os.path.join(PATH_RESOURCES, 'utils', 'era5-config.json')\n",
    "CONFIG_ERA5    = json.load(open(PATH_ERA5))"
   ]
  },
  {
   "cell_type": "code",
   "execution_count": 46,
   "id": "cb6b9093",
   "metadata": {},
   "outputs": [],
   "source": [
    "def downloadEra5Data (var, month, year):\n",
    "    \n",
    "    path_out       = os.path.join(PATH_RESOURCES, CONFIG_ERA5['name'], CONFIG_ERA5['product_type'],\n",
    "                        f'{var}_{month}_{year}_hourly.{CONFIG_ERA5['format']}')\n",
    "    \n",
    "    list_days   = [f\"{day:02}\" for day in range(1, calendar.monthrange(year, month) 1)]\n",
    "    list_hours  = [f\"{hour:02}:00\" for hour in range(24)]\n",
    "\n",
    "\n",
    "    c = cdsapi.Client()\n",
    "    c.retrieve(\n",
    "        config_era5['name'],\n",
    "        {\n",
    "            'product_type': config['product_type'],\n",
    "            'format'      : config['format'],\n",
    "            'variable'    : var,\n",
    "            'year'        : year,\n",
    "            'month'       : month,\n",
    "            'day'         : list_days,\n",
    "            'time'        : list_hours,\n",
    "            'area'        : config['area']\n",
    "        },\n",
    "        path_out)"
   ]
  },
  {
   "cell_type": "code",
   "execution_count": 40,
   "id": "256afb4f",
   "metadata": {},
   "outputs": [],
   "source": [
    "def main():\n",
    "    for var in config['varaible']:\n",
    "        for year in config['year']:\n",
    "            for month in config['month']:\n",
    "                downloadEra5Data(var, month, year)"
   ]
  },
  {
   "cell_type": "code",
   "execution_count": null,
   "id": "b5263386",
   "metadata": {},
   "outputs": [],
   "source": [
    "if __name__ == '__main__':\n",
    "    main()"
   ]
  }
 ],
 "metadata": {
  "kernelspec": {
   "display_name": "Python 3 (ipykernel)",
   "language": "python",
   "name": "python3"
  },
  "language_info": {
   "codemirror_mode": {
    "name": "ipython",
    "version": 3
   },
   "file_extension": ".py",
   "mimetype": "text/x-python",
   "name": "python",
   "nbconvert_exporter": "python",
   "pygments_lexer": "ipython3",
   "version": "3.12.3"
  }
 },
 "nbformat": 4,
 "nbformat_minor": 5
}
