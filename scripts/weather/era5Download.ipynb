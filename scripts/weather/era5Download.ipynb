{
 "cells": [
  {
   "cell_type": "code",
   "execution_count": 1,
   "id": "4bbbc88f",
   "metadata": {},
   "outputs": [],
   "source": [
    "import datetime as dt\n",
    "import pandas as pd\n",
    "import calendar\n",
    "import cdsapi\n",
    "import json\n",
    "import os"
   ]
  },
  {
   "cell_type": "code",
   "execution_count": 2,
   "id": "9ed98646",
   "metadata": {},
   "outputs": [],
   "source": [
    "PATH_RESOURCES = os.path.join('..', '..', 'resources')\n",
    "PATH_ERA5      = os.path.join(PATH_RESOURCES, 'utils', 'era5-config.json')\n",
    "CONFIG_ERA5    = json.load(open(PATH_ERA5))"
   ]
  },
  {
   "cell_type": "code",
   "execution_count": 3,
   "id": "cb6b9093",
   "metadata": {},
   "outputs": [],
   "source": [
    "def downloadEra5Data (var, month, year):\n",
    "    \n",
    "    path_out       = os.path.join(PATH_RESOURCES, CONFIG_ERA5['name'], var,\n",
    "                        f'{var}_{month}_{year}_hourly.{CONFIG_ERA5['format']}')\n",
    "    \n",
    "    if not os.path.isfile(path_out):  \n",
    "        \n",
    "        if not os.path.isdir(os.path.dirname(path_out)):\n",
    "            os.makedirs(os.path.dirname(path_out))\n",
    "\n",
    "        list_days   = [f\"{day:02}\" for day in range(1, calendar.monthrange(year, month)[1] + 1)]\n",
    "        list_hours  = [f\"{hour:02}:00\" for hour in range(24)]\n",
    "\n",
    "\n",
    "        c = cdsapi.Client()\n",
    "        c.retrieve(\n",
    "            CONFIG_ERA5['name'],\n",
    "            {\n",
    "                'product_type': CONFIG_ERA5['product_type'],\n",
    "                'data_format' : CONFIG_ERA5['format'],\n",
    "                'variable'    : var,\n",
    "                'year'        : year,\n",
    "                'month'       : month,\n",
    "                'day'         : list_days,\n",
    "                'time'        : list_hours,\n",
    "                'area'        : CONFIG_ERA5['area']\n",
    "            },\n",
    "            path_out\n",
    "        ).download()"
   ]
  },
  {
   "cell_type": "code",
   "execution_count": 4,
   "id": "256afb4f",
   "metadata": {},
   "outputs": [],
   "source": [
    "def main():\n",
    "    for var in CONFIG_ERA5['variable']:\n",
    "        for year in CONFIG_ERA5['year']:\n",
    "            for month in CONFIG_ERA5['month']:\n",
    "                downloadEra5Data(var, int(month), int(year))"
   ]
  },
  {
   "cell_type": "code",
   "execution_count": null,
   "id": "b5263386",
   "metadata": {},
   "outputs": [
    {
     "name": "stderr",
     "output_type": "stream",
     "text": [
      "2024-09-12 16:42:48,395 INFO Request ID is ee2fb59f-c3be-4d9d-a487-9eca0c8c8de4\n",
      "2024-09-12 16:42:48,441 INFO status has been updated to accepted\n",
      "Recovering from HTTP error [500 Internal Server Error], attemps 1 of 500\n",
      "Retrying in 120 seconds\n",
      "Recovering from HTTP error [500 Internal Server Error], attemps 2 of 500\n",
      "Retrying in 120 seconds\n",
      "Recovering from HTTP error [500 Internal Server Error], attemps 3 of 500\n",
      "Retrying in 120 seconds\n",
      "Recovering from HTTP error [500 Internal Server Error], attemps 4 of 500\n",
      "Retrying in 120 seconds\n",
      "Recovering from HTTP error [500 Internal Server Error], attemps 5 of 500\n",
      "Retrying in 120 seconds\n",
      "Recovering from HTTP error [500 Internal Server Error], attemps 6 of 500\n",
      "Retrying in 120 seconds\n",
      "Recovering from HTTP error [500 Internal Server Error], attemps 7 of 500\n",
      "Retrying in 120 seconds\n",
      "Recovering from HTTP error [500 Internal Server Error], attemps 8 of 500\n",
      "Retrying in 120 seconds\n",
      "Recovering from HTTP error [500 Internal Server Error], attemps 9 of 500\n",
      "Retrying in 120 seconds\n",
      "Recovering from HTTP error [500 Internal Server Error], attemps 10 of 500\n",
      "Retrying in 120 seconds\n",
      "Recovering from HTTP error [500 Internal Server Error], attemps 11 of 500\n",
      "Retrying in 120 seconds\n",
      "Recovering from HTTP error [500 Internal Server Error], attemps 12 of 500\n",
      "Retrying in 120 seconds\n",
      "Recovering from HTTP error [500 Internal Server Error], attemps 13 of 500\n",
      "Retrying in 120 seconds\n",
      "Recovering from HTTP error [500 Internal Server Error], attemps 14 of 500\n",
      "Retrying in 120 seconds\n",
      "Recovering from HTTP error [500 Internal Server Error], attemps 15 of 500\n",
      "Retrying in 120 seconds\n",
      "Recovering from HTTP error [500 Internal Server Error], attemps 16 of 500\n",
      "Retrying in 120 seconds\n",
      "Recovering from HTTP error [500 Internal Server Error], attemps 17 of 500\n",
      "Retrying in 120 seconds\n",
      "Recovering from HTTP error [500 Internal Server Error], attemps 18 of 500\n",
      "Retrying in 120 seconds\n",
      "Recovering from HTTP error [500 Internal Server Error], attemps 19 of 500\n",
      "Retrying in 120 seconds\n",
      "Recovering from HTTP error [500 Internal Server Error], attemps 20 of 500\n",
      "Retrying in 120 seconds\n",
      "Recovering from HTTP error [500 Internal Server Error], attemps 21 of 500\n",
      "Retrying in 120 seconds\n",
      "Recovering from HTTP error [500 Internal Server Error], attemps 22 of 500\n",
      "Retrying in 120 seconds\n",
      "Recovering from HTTP error [500 Internal Server Error], attemps 23 of 500\n",
      "Retrying in 120 seconds\n",
      "Recovering from HTTP error [500 Internal Server Error], attemps 24 of 500\n",
      "Retrying in 120 seconds\n",
      "Recovering from HTTP error [500 Internal Server Error], attemps 25 of 500\n",
      "Retrying in 120 seconds\n",
      "Recovering from HTTP error [500 Internal Server Error], attemps 26 of 500\n",
      "Retrying in 120 seconds\n",
      "Recovering from HTTP error [500 Internal Server Error], attemps 27 of 500\n",
      "Retrying in 120 seconds\n"
     ]
    }
   ],
   "source": [
    "if __name__ == '__main__':\n",
    "    main()"
   ]
  }
 ],
 "metadata": {
  "kernelspec": {
   "display_name": "Python 3 (ipykernel)",
   "language": "python",
   "name": "python3"
  },
  "language_info": {
   "codemirror_mode": {
    "name": "ipython",
    "version": 3
   },
   "file_extension": ".py",
   "mimetype": "text/x-python",
   "name": "python",
   "nbconvert_exporter": "python",
   "pygments_lexer": "ipython3",
   "version": "3.12.3"
  }
 },
 "nbformat": 4,
 "nbformat_minor": 5
}
