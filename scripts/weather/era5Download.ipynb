{
 "cells": [
  {
   "cell_type": "code",
   "execution_count": 42,
   "id": "319c2cf5",
   "metadata": {},
   "outputs": [],
   "source": [
    "import datetime as dt\n",
    "import pandas as pd\n",
    "import cdsapi\n",
    "import json\n",
    "import os"
   ]
  },
  {
   "cell_type": "code",
   "execution_count": 43,
   "id": "2e5027b8",
   "metadata": {},
   "outputs": [],
   "source": [
    "def downloadEra5Data ():\n",
    "    path_resources = os.path.join('..', '..', 'resources')\n",
    "    path_era5      = os.path.join(path_resources, 'utils', 'era5-config.json')\n",
    "    config_era5    = json.load(open(path_era5))\n",
    "    path_out       = os.path.join(path_resources, config_era5['name'], config_era5['product_type'],\n",
    "                        f'{config_era5['variable'][0]}_{config_era5['month'][0]}_{config_era5['year'][0]}_hourly.{config_era5['format']}')\n",
    "    \n",
    "    list_days   = [f\"{day:02}\" for day in range(1, calendar.monthrange(int(config_era5['year'][0]), int(config_era5['month'][0]))[1] + 1)]\n",
    "    list_hours  = [f\"{hour:02}:00\" for hour in range(24)]\n",
    "\n",
    "\n",
    "    c = cdsapi.Client()\n",
    "    c.retrieve(\n",
    "        config_era5['name'],\n",
    "        {\n",
    "            'product_type': config['product_type'],\n",
    "            'format'      : config['format'],\n",
    "            'variable'    : config['variable'],\n",
    "            'year'        : config['year'],\n",
    "            'month'       : config['month'],\n",
    "            'day'         : list_days,\n",
    "            'time'        : list_hours,\n",
    "            'area'        : config['area']\n",
    "        },\n",
    "        path_out)"
   ]
  },
  {
   "cell_type": "code",
   "execution_count": 40,
   "id": "dcd018d5",
   "metadata": {},
   "outputs": [],
   "source": [
    "# Queda la parte de leer con un for los meses años y variables y adaptar el metodo anterior"
   ]
  }
 ],
 "metadata": {
  "kernelspec": {
   "display_name": "Python 3 (ipykernel)",
   "language": "python",
   "name": "python3"
  },
  "language_info": {
   "codemirror_mode": {
    "name": "ipython",
    "version": 3
   },
   "file_extension": ".py",
   "mimetype": "text/x-python",
   "name": "python",
   "nbconvert_exporter": "python",
   "pygments_lexer": "ipython3",
   "version": "3.12.3"
  }
 },
 "nbformat": 4,
 "nbformat_minor": 5
}
