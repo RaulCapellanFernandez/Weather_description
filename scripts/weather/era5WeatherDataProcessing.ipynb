{
 "cells": [
  {
   "cell_type": "code",
   "execution_count": 1,
   "id": "d1d83b98-cde3-46e1-bc2b-9faf9eb54481",
   "metadata": {},
   "outputs": [],
   "source": [
    "import os\n",
    "import xarray as xr\n",
    "import pandas as pd\n",
    "from glob import glob\n",
    "import geopandas as gpd\n",
    "from datetime import datetime as dt\n",
    "from datetime import timedelta as td"
   ]
  },
  {
   "cell_type": "code",
   "execution_count": 2,
   "id": "6f64a910-bd80-4ca2-9eb3-29c1a89c05d1",
   "metadata": {},
   "outputs": [],
   "source": [
    "PATH_WEATHER        = os.path.join('..', '..', 'resources', 'reanalysis-era5-single-levels')\n",
    "PATH_COMPLETE_FILES = glob(os.path.join(PATH_WEATHER, 'complete_files', '*.grib'))"
   ]
  },
  {
   "cell_type": "code",
   "execution_count": 3,
   "id": "b7c8e422-b3af-4e4e-8943-0f1d1fa02df5",
   "metadata": {},
   "outputs": [],
   "source": [
    "def createNcFilesMonths(path_file) :\n",
    "\n",
    "    ds = xr.open_dataset(path_file)\n",
    "    name = os.path.splitext(os.path.basename(path_file))[0].split('_')[0]\n",
    "    \n",
    "    date_range      = pd.date_range(start=ds.time.values[0], end=ds.time.values[-1], freq='MS')\n",
    "    list_year_month = [\n",
    "        {\n",
    "            'year': year, \n",
    "            'month': sorted(set(date_range[date_range.year == year].month))}\n",
    "            for year in sorted(set(date_range.year))\n",
    "    ]\n",
    "    \n",
    "    for year_month in list_year_month :\n",
    "        for month in year_month['month'] :\n",
    "            year = year_month['year']\n",
    "            ds_filter = ds.sel(time=ds['time'].dt.year.isin([year]) & ds['time'].dt.month.isin([month]))\n",
    "    \n",
    "            path_out = os.path.join(PATH_WEATHER, name)\n",
    "            if os.path.isdir(path_out) == False :\n",
    "                os.makedirs(path_out)\n",
    "                            \n",
    "            path_out  = os.path.join(path_out, f'{name}_{year}-{month}.nc')\n",
    "            ds_filter.to_netcdf(path_out)\n",
    "        "
   ]
  },
  {
   "cell_type": "code",
   "execution_count": 4,
   "id": "8763bc67-b046-4601-90c8-b28055d1dac7",
   "metadata": {},
   "outputs": [],
   "source": [
    "if __name__ == '__main__' :\n",
    "    for path_file in PATH_COMPLETE_FILES :\n",
    "        createNcFilesMonths(path_file)"
   ]
  }
 ],
 "metadata": {
  "kernelspec": {
   "display_name": "Python 3 (ipykernel)",
   "language": "python",
   "name": "python3"
  },
  "language_info": {
   "codemirror_mode": {
    "name": "ipython",
    "version": 3
   },
   "file_extension": ".py",
   "mimetype": "text/x-python",
   "name": "python",
   "nbconvert_exporter": "python",
   "pygments_lexer": "ipython3",
   "version": "3.12.3"
  }
 },
 "nbformat": 4,
 "nbformat_minor": 5
}
