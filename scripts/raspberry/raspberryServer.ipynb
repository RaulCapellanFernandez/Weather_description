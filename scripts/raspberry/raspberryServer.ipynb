{
 "cells": [
  {
   "cell_type": "code",
   "execution_count": 1,
   "id": "cd450644",
   "metadata": {},
   "outputs": [],
   "source": [
    "import cv2, os, logging, time, io\n",
    "from datetime import datetime as dt\n",
    "from datetime import timedelta as td\n",
    "\n",
    "from google.oauth2 import service_account\n",
    "from googleapiclient.discovery import build\n",
    "from googleapiclient.errors import HttpError\n",
    "from googleapiclient.http import MediaFileUpload\n",
    "from googleapiclient.http import MediaIoBaseDownload"
   ]
  },
  {
   "cell_type": "raw",
   "id": "0e5d61e9",
   "metadata": {},
   "source": [
    "LOCALIZATION = 'palazuelo_de_orbigo'\n",
    "PATH_DATA    = os.path.join('..', '..', 'resources', 'raw_images')\n",
    "\n",
    "if os.path.isdir == False :\n",
    "    os.makedirs(PATH_DATA)"
   ]
  },
  {
   "cell_type": "code",
   "execution_count": null,
   "id": "f59df846",
   "metadata": {},
   "outputs": [],
   "source": [
    "def saveWebCamImages() :\n",
    "    date_now   = dt.strftime(dt.now(), \"%Y-%m-%d_%H\")\n",
    "    name_image = f\"{LOCALIZATION}_{date_now}.jpg\"\n",
    "\n",
    "    path_image = os.path.join(PATH_DATA, name_image)\n",
    "\n",
    "    if os.path.isfile(path_image) == False :\n",
    "\n",
    "        cap = cv2.VideoCapture(0)\n",
    "        if not cap.isOpened() :\n",
    "            print(\"Error: The webcam is not working\")\n",
    "        else :\n",
    "            ret, frame = cap.read()\n",
    "\n",
    "            if ret :\n",
    "                cv2.imwrite(path_image, frame)\n",
    "                return path_image_image\n",
    "\n",
    "            else :\n",
    "                print(\"Error: There is an error obtaining the image\")\n",
    "\n",
    "            cap.release()\n",
    "            cv2.destroyAllWindows()\n",
    "        else : \n",
    "            print('The image is already saved')\n",
    "            \n",
    "    return -1"
   ]
  },
  {
   "cell_type": "code",
   "execution_count": null,
   "id": "ded28c8b",
   "metadata": {},
   "outputs": [],
   "source": [
    "def saveInGoogleDrive(item) :\n",
    "    print()"
   ]
  },
  {
   "cell_type": "code",
   "execution_count": null,
   "id": "dec8f4a2",
   "metadata": {},
   "outputs": [],
   "source": [
    "def main() :\n",
    "    while True :\n",
    "        path_image = saveWebCamImages()\n",
    "\n",
    "        if path_image != -1 :\n",
    "            saveInGoogleDrive(path_image)\n",
    "\n",
    "        time.sleep(600)"
   ]
  },
  {
   "cell_type": "code",
   "execution_count": null,
   "id": "c1531da5",
   "metadata": {},
   "outputs": [],
   "source": [
    "# if __name__ == '__main_':\n",
    "#     main()"
   ]
  },
  {
   "cell_type": "code",
   "execution_count": null,
   "id": "b32cf321",
   "metadata": {},
   "outputs": [],
   "source": [
    "from pydrive.auth import GoogleAuth\n",
    "from pydrive.drive import GoogleDrive\n",
    "\n",
    "# Autenticación y creación del cliente\n",
    "gauth = GoogleAuth()\n",
    "\n",
    "# Carga la configuración del cliente desde el archivo JSON descargado\n",
    "gauth.LoadClientConfigFile('../')\n",
    "\n",
    "# Intenta cargar las credenciales almacenadas si existen\n",
    "gauth.LoadCredentialsFile('mycreds.txt')\n",
    "\n",
    "if not gauth.credentials:\n",
    "    # Autenticación mediante el navegador si no hay credenciales\n",
    "    gauth.LocalWebserverAuth()\n",
    "    # Guarda las credenciales para futuras ejecuciones\n",
    "    gauth.SaveCredentialsFile('mycreds.txt')\n",
    "elif gauth.access_token_expired:\n",
    "    # Refresca las credenciales si el token ha expirado\n",
    "    gauth.Refresh()\n",
    "else:\n",
    "    # Autoriza con las credenciales existentes\n",
    "    gauth.Authorize()\n",
    "\n",
    "drive = GoogleDrive(gauth)\n",
    "\n",
    "# Sube un archivo a Google Drive\n",
    "file_path = '../../resources/reanalysis-era5-single-levels/cloud_base_height/cloud_base_height_1_2024_hourly.netcdf'  # Cambia esto a la ruta de tu imagen\n",
    "file1 = drive.CreateFile({'title': 'SIIIUUUUU'})  # Puedes cambiar el nombre del archivo en Google Drive\n",
    "file1.SetContentFile(file_path)\n",
    "file1.Upload()\n",
    "\n",
    "print('Archivo subido con éxito')\n"
   ]
  },
  {
   "cell_type": "code",
   "execution_count": null,
   "id": "bb13f844",
   "metadata": {},
   "outputs": [],
   "source": []
  }
 ],
 "metadata": {
  "kernelspec": {
   "display_name": "Python 3 (ipykernel)",
   "language": "python",
   "name": "python3"
  },
  "language_info": {
   "codemirror_mode": {
    "name": "ipython",
    "version": 3
   },
   "file_extension": ".py",
   "mimetype": "text/x-python",
   "name": "python",
   "nbconvert_exporter": "python",
   "pygments_lexer": "ipython3",
   "version": "3.12.3"
  }
 },
 "nbformat": 4,
 "nbformat_minor": 5
}
