{
 "cells": [
  {
   "cell_type": "code",
   "execution_count": 2,
   "id": "076741a2-321b-4371-b94b-3a9588281967",
   "metadata": {},
   "outputs": [],
   "source": [
    "import os\n",
    "import pandas as pd\n",
    "from glob import glob\n",
    "from natsort import natsorted"
   ]
  },
  {
   "cell_type": "code",
   "execution_count": 7,
   "id": "d1d94142-d919-4515-9ab5-b8108e7b3420",
   "metadata": {},
   "outputs": [],
   "source": [
    "PATH_UTILS        = os.path.join('..', '..', '..', 'resources', 'utils')\n",
    "FILE_WEATHER      = os.path.join(PATH_UTILS, 'images_weather_data.csv')\n",
    "FILES_DESCRIPTION = natsorted(glob(os.path.join(PATH_UTILS, 'descriptions_openAI', '*.csv')))\n",
    "PATH_RESULT       = os.path.join(PATH_UTILS, 'images_weather_description_openAI.csv')"
   ]
  },
  {
   "cell_type": "code",
   "execution_count": 8,
   "id": "3f31a03a-5839-4a17-a1b3-a587d66b6482",
   "metadata": {},
   "outputs": [],
   "source": [
    "df_weather = pd.read_csv(FILE_WEATHER)\n",
    "\n",
    "df_concat = pd.DataFrame()\n",
    "for file in FILES_DESCRIPTION :\n",
    "    df_aux = pd.read_csv(file)\n",
    "    df_concat = pd.concat([df_concat, df_aux])\n",
    "\n",
    "df_weather['description'] = df_concat.descriptions.values\n",
    "df_weather.to_csv(PATH_RESULT, index=False)"
   ]
  }
 ],
 "metadata": {
  "kernelspec": {
   "display_name": "Python 3 (ipykernel)",
   "language": "python",
   "name": "python3"
  },
  "language_info": {
   "codemirror_mode": {
    "name": "ipython",
    "version": 3
   },
   "file_extension": ".py",
   "mimetype": "text/x-python",
   "name": "python",
   "nbconvert_exporter": "python",
   "pygments_lexer": "ipython3",
   "version": "3.9.21"
  }
 },
 "nbformat": 4,
 "nbformat_minor": 5
}
