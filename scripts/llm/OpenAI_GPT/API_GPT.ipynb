{
 "cells": [
  {
   "cell_type": "code",
   "execution_count": 28,
   "id": "c071ece5",
   "metadata": {},
   "outputs": [],
   "source": [
    "import os\n",
    "from openai import OpenAI, AsyncOpenAI\n",
    "from dotenv import load_dotenv\n",
    "\n",
    "# access API_KEYS\n",
    "client = OpenAI(\n",
    "  api_key=os.environ['OPENAI_API_KEY'],\n",
    ")"
   ]
  },
  {
   "cell_type": "code",
   "execution_count": 30,
   "id": "426f7d68",
   "metadata": {},
   "outputs": [],
   "source": [
    "client = AsyncOpenAI()\n",
    "completion = await client.chat.completions.create(\n",
    "    model=\"gpt-4o\", \n",
    "    messages=[\n",
    "    {\"role\": \"system\", \"content\": \"You are a poetic assistant, skilled in explaining complex programming concepts with creative flair.\"},\n",
    "    {\"role\": \"user\", \"content\": \"Compose a poem that explains the concept of recursion in programming.\"}\n",
    "  ]\n",
    ")"
   ]
  },
  {
   "cell_type": "code",
   "execution_count": 31,
   "id": "c7d39fbf",
   "metadata": {},
   "outputs": [
    {
     "name": "stdout",
     "output_type": "stream",
     "text": [
      "ChatCompletionMessage(content='In the realm of code, where logic takes its flight,\\nDwells a concept, infinite in might.\\nA dance of mirrors, reflections grand,\\nIt\\'s the enchanting kingdom of Recursion Land.\\n\\nA function calls itself within its core,\\nA loop of definition, an algorithmic lore.\\nIt dares to dive, deep and profound,\\nUntil a base case brings it back around.\\n\\nImagine a maze with doors untold,\\nEach opens to another, a mystery to unfold.\\nStep by step, it charts its course,\\nYet finds its way back without remorse.\\n\\nTo calculate factorials or traverse a tree,\\nRecursion whispers, \"Trust in me.\\nI\\'ll split the task, from complex to plain,\\nSolve each piece, then unite again.\"\\n\\nAs echoes give birth to echoes in a hall,\\nRecursion leads you through it all.\\nA fractal\\'s bloom in patterns neat,\\nAn elegant cycle, ever discreet.\\n\\nBut beware, dear coder, of an endless spree,\\nWhere recursion falls in infinity\\'s sea.\\nGuard it well, with conditions clear,\\nLest it slips into an endless sphere.\\n\\nEmbrace the magic, the succinct grace,\\nOf recursion’s self-referential embrace.\\nIn coding\\'s art, let it be your guide,\\nA looping journey, a wondrous ride.', role='assistant', function_call=None, tool_calls=None)\n"
     ]
    }
   ],
   "source": [
    "print(completion.choices[0].message)"
   ]
  },
  {
   "cell_type": "code",
   "execution_count": null,
   "id": "6dd36162",
   "metadata": {},
   "outputs": [],
   "source": []
  }
 ],
 "metadata": {
  "kernelspec": {
   "display_name": "Python 3 (ipykernel)",
   "language": "python",
   "name": "python3"
  },
  "language_info": {
   "codemirror_mode": {
    "name": "ipython",
    "version": 3
   },
   "file_extension": ".py",
   "mimetype": "text/x-python",
   "name": "python",
   "nbconvert_exporter": "python",
   "pygments_lexer": "ipython3",
   "version": "3.12.3"
  }
 },
 "nbformat": 4,
 "nbformat_minor": 5
}
