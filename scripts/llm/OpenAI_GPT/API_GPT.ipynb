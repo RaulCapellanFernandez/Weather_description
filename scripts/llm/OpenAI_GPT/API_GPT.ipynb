{
 "cells": [
  {
   "cell_type": "code",
   "execution_count": 1,
   "id": "c071ece5",
   "metadata": {},
   "outputs": [],
   "source": [
    "import os\n",
    "from openai import OpenAI, AsyncOpenAI\n",
    "from dotenv import load_dotenv\n",
    "\n",
    "# access API_KEYS\n",
    "load_dotenv()\n",
    "client = OpenAI(\n",
    "    api_key=os.getenv('OPENAI_API_KEY'),\n",
    ")"
   ]
  },
  {
   "cell_type": "markdown",
   "id": "fdd080f8",
   "metadata": {},
   "source": [
    "## 1. Working with GPT_API:"
   ]
  },
  {
   "cell_type": "markdown",
   "id": "5acd4646",
   "metadata": {},
   "source": [
    "### System Content:\n",
    "- Indicate the behaviour for genearating a respones based on the problem to solve\n",
    "- Indicating the lower and upper threshold for each varaible\n"
   ]
  },
  {
   "cell_type": "code",
   "execution_count": 51,
   "id": "8bcebe84",
   "metadata": {},
   "outputs": [],
   "source": [
    "system_content = \"\"\"\n",
    "You are tasked with describing clouds in relation to different weather phenomena, such as rain, imminent rain, cyclones, and anticyclones. \n",
    "Do not mention any name of the following varaibles: Cloud Base, High Cloud, Low Cloud, Medium Cloud, Total Cloud\n",
    "\n",
    "Here are the guidelines for each variable:\\n\\n1. \n",
    "**Cloud Base**: Describe the altitude and its implication for weather conditions.\\n    \n",
    "    - Example: 'Indicates the potential for rain.'\\n\\n. \n",
    "**High Cloud**: Describe the presence and type of high-altitude clouds, indicating weather patterns.\\n    \n",
    "    - Example: 'High cirrus clouds are present, suggesting fair weather.'\\n\\n. \n",
    "**Low Cloud**: Focus on the type and density of low-altitude clouds and their weather implications.\\n    \n",
    "    - Example: 'Indicates heavy rain.'\\n\\n. \n",
    "**Medium Cloud**: Describe the mid-level clouds and what they indicate about the weather.\\n    \n",
    "    - Example: 'Suggest possible light showers.'\\n\\n. \n",
    "**Total Cloud**: Provide an overall assessment of cloud coverage and its impact on weather.\\n    \n",
    "    - Example: 'The sky is completely overcast, likely leading to continuous rain.'\n",
    "\n",
    "### \\n\\nThresholds of the varaibles:\\n\\n. \n",
    "\"Cloud Base\": {\n",
    "    \"0-2000\": \"Low altitude clouds, indicating the potential for rain.\",\n",
    "    \"2001-4000\": \"Moderate altitude, suggesting stable weather conditions.\",\n",
    "    \"4001-6000\": \"Relatively high clouds, typically indicating fair weather, could indicate cyclones\",\n",
    "    \"6000+\": \"The cloud base is very high, indicating clear and stable weather with no immediate precipitation.Typical of an anticyclone.\"\n",
    "  },\n",
    "\"High Cloud\": {\n",
    "    \"0.0-0.25\": \"Indicating clear skies, potential for clear weather\",\n",
    "    \"0.26-0.50\": \"Suggesting fair weather with some incoming rain.\",\n",
    "    \"0.51-0.75\": \"Indicating possible changes in weather.\",\n",
    "    \"0.76-1\": \"High cloud cover is dense, suggesting an approaching front or significant weather changes, associated with an anticyclone.\"\n",
    "  },\n",
    "\"Low Cloud\": {\n",
    "    \"0.0-0.25\": \"Few to no low clouds, indicating clear or fair weather.\",\n",
    "    \"0.26-0.50\": \"Moderate presence of low clouds, suggesting possible light showers.\",\n",
    "    \"0.51-0.75\": \"Significant presence of low clouds, indicating potential for overcast conditions with rain or thunderstorms.\",\n",
    "    \"0.76-1\": \"Dense low cloud cover, suggesting overcast conditions with heavy rain or cyclonic activity.\"\n",
    "  },\n",
    "\"Medium Cloud\": {\n",
    "    \"0.0-0.25\": \"Few to no medium clouds, indicating stable weather.\",\n",
    "    \"0.26-0.50\": \"Moderate presence of medium clouds, suggesting potential for light showers.\",\n",
    "    \"0.51-0.75\": \"Significant presence of medium clouds, indicating changes in weather conditions. Indicating rain or thunderstorms.\",\n",
    "    \"0.76-1\": \"Dense medium cloud cover, suggesting potential for continuous rain or storms with an unstable atmosphere.\"\n",
    "  },\n",
    "\"Total Cloud\": {\n",
    "    \"0.0-0.25\": \"Clear sky with minimal cloud cover, indicating no significant weather activity.\",\n",
    "    \"0.26-0.50\": \"Partly cloudy sky, suggesting fair weather with some cloud presence.\",\n",
    "    \"0.51-0.75\": \"Mostly cloudy sky, indicating overcast conditions with potential for light rain.\",\n",
    "    \"0.76-1\": \"Completely overcast sky, likely leading to continuous rain or cyclonic activity.\"\n",
    "  }\n",
    "    \n",
    "\\n\\nHere are sample descriptions for specific weather phenomena:\\n\\n \n",
    "- **Raining**: 'Low, dense clouds dominate the sky, indicating heavy rain with a low cloud base. Medium clouds add to the overcast conditions.'\\n-\n",
    "- **Going to Rain**: 'The cloud base is lowering with increasing total cloud coverage. Medium clouds are thickening, suggesting imminent rain.'\\n- \n",
    "- **Cyclone**: 'Total cloud coverage with a mix of high cirrus and low dense clouds, indicating the presence of a cyclone. The cloud base is significantly low.'\\n- \n",
    "- **Anticyclone**: 'High cirrus clouds are scattered with minimal total cloud coverage, indicating fair weather associated with an anticyclone.'\\n\\n\n",
    "\n",
    "### Weather Predictions Based on Cloud Data:\\n\\n1. \n",
    "**Precipitation**:\\n    \n",
    "    - **Rain**: Presence of low, dense, and thick clouds like nimbostratus or cumulonimbus suggests rain or thunderstorms.\\n    \n",
    "    - **Snow**: Similar to rain, but typically observed in colder conditions. Thick, low clouds can indicate snowfall.\\n\\n. \n",
    "**Clear Weather**:\\n    \n",
    "    - **Fair Weather**: High, wispy clouds like cirrus indicate fair weather. Scattered cumulus clouds can also suggest clear skies.\\n\\n. \n",
    "**Storms and Severe Weather**:\\n    \n",
    "    - **Thunderstorms**: Tall, towering cumulonimbus clouds are a strong indicator of thunderstorms, possibly with lightning, heavy rain, and hail.\\n    \n",
    "    - **Cyclones**: Total cloud coverage with organized patterns, including low dense clouds and high cirrus clouds, can indicate cyclonic activity.\\n\\n. \n",
    "**Imminent Weather Changes**:\\n    \n",
    "    - **Incoming Rain**: Lowering cloud base with increasing medium and low cloud coverage can suggest imminent rain.\\n   \n",
    "    - **Fronts and Changes in Weather**: The presence of certain clouds like altostratus can indicate a warm front, which often precedes longer periods of precipitation.\\n\\n. \n",
    "**Atmospheric Stability**:\\n    \n",
    "    - **Stable Atmosphere**: High, thin clouds like cirrostratus or cirrocumulus indicate a stable atmosphere, often leading to calm weather.\\n    \n",
    "    - **Unstable Atmosphere**: Presence of towering cumulus or cumulonimbus clouds indicates an unstable atmosphere, likely leading to storms.\\n\\n\n",
    "    \n",
    "By following these guidelines, you can effectively describe the observed clouds, infer weather conditions, and make predictions concisely.\n",
    "    \n",
    "Provide your descriptions in a maximum of four sentences.\n",
    "Generate a description of the weather without mentionning any of the previous variables\n",
    "\"\"\" \n",
    "\n",
    "#Maybe trying AWS for the LLama part for taking expirience in this topics, maybe it's useful "
   ]
  },
  {
   "cell_type": "markdown",
   "id": "1f4e37f0",
   "metadata": {},
   "source": [
    "### User Content:\n",
    "- Indicate the promnt to generate a description for the different varaibles of the clouds in this case"
   ]
  },
  {
   "cell_type": "code",
   "execution_count": 55,
   "id": "3f0e1727",
   "metadata": {},
   "outputs": [],
   "source": [
    "user_content = {\n",
    "                  \"cloud_base\"  : 2000,\n",
    "                  \"cloud_high\"  : 0.20,\n",
    "                  \"cloud_low\"   : 0.9,\n",
    "                  \"cloud_mid\"   : 1,\n",
    "                  \"cloud_total\" : 0.80\n",
    "                }\n",
    "\n",
    "prompt = f\"\"\"\n",
    "            The weather data is as follows:\n",
    "            Cloud Base: {user_content['cloud_base']} meters\n",
    "            High Cloud: {user_content['cloud_high']*100}%\n",
    "            Low Cloud:  {user_content['cloud_low']*100}%\n",
    "            Medium Cloud: {user_content['cloud_mid']*100}%\n",
    "            Total Cloud: {user_content['cloud_total']*100}%\n",
    "\n",
    "            Based on this data, provide an analysis of the cloud coverage and any potential implications for weather conditions.\n",
    "            Do not mention in the prompt: Cloud Base, High Cloud, Low Cloud, Medium Cloud, Total Cloud\n",
    "        \"\"\""
   ]
  },
  {
   "cell_type": "code",
   "execution_count": 56,
   "id": "426f7d68",
   "metadata": {},
   "outputs": [],
   "source": [
    "client = AsyncOpenAI()\n",
    "completion = await client.chat.completions.create(\n",
    "    model = \"gpt-4o\", \n",
    "    messages = [\n",
    "    {\n",
    "        \"role\"   : \"system\",\n",
    "        \"content\": system_content\n",
    "    },\n",
    "    \n",
    "    {\n",
    "        \"role\"   : \"user\",\n",
    "        \"content\": prompt\n",
    "    }\n",
    "  ],\n",
    "  temperature = 0.7\n",
    ")"
   ]
  },
  {
   "cell_type": "code",
   "execution_count": 57,
   "id": "5fdb527b",
   "metadata": {},
   "outputs": [
    {
     "name": "stdout",
     "output_type": "stream",
     "text": [
      "ChatCompletionMessage(content='The altitude of the clouds is moderate, suggesting stable weather conditions. There are few high clouds, indicating clear skies at higher altitudes. However, the sky is dominated by dense low clouds and thick medium clouds, creating an overcast situation. This combination is likely to lead to heavy rain, given the significant total cloud coverage.', role='assistant', function_call=None, tool_calls=None)\n"
     ]
    }
   ],
   "source": [
    "print(completion.choices[0].message)"
   ]
  },
  {
   "cell_type": "markdown",
   "id": "72bef8e7",
   "metadata": {},
   "source": [
    "# 2. Fine Tunning GPT_API"
   ]
  },
  {
   "cell_type": "markdown",
   "id": "bcc9e6c4",
   "metadata": {},
   "source": [
    "### Prepare the data"
   ]
  },
  {
   "cell_type": "code",
   "execution_count": 9,
   "id": "fc178a4d",
   "metadata": {},
   "outputs": [],
   "source": [
    "data = [\n",
    "          {\"prompt\": \"Pregunta: ¿Cómo estás?\\n\", \"completion\": \"Respuesta: Estoy bien, gracias.\\n\"},\n",
    "          {\"prompt\": \"Pregunta: ¿Cuál es tu nombre?\\n\", \"completion\": \"Respuesta: Soy un modelo de lenguaje GPT.\\n\"}\n",
    "       ]"
   ]
  },
  {
   "cell_type": "markdown",
   "id": "bf10ff0a",
   "metadata": {},
   "source": [
    "### Upload the file to OpenAI"
   ]
  },
  {
   "cell_type": "code",
   "execution_count": null,
   "id": "d7d41a06",
   "metadata": {},
   "outputs": [],
   "source": [
    "response = openai.File.create(\n",
    "  file=open(\"ruta/a/tu/archivo.jsonl\"),\n",
    "  purpose='fine-tune'\n",
    ")\n",
    "\n",
    "file_id = response['id']"
   ]
  },
  {
   "cell_type": "markdown",
   "id": "2184fd1d",
   "metadata": {},
   "source": [
    "### Init the fine tunning"
   ]
  },
  {
   "cell_type": "code",
   "execution_count": null,
   "id": "7e17824c",
   "metadata": {},
   "outputs": [],
   "source": [
    "response = openai.FineTune.create(\n",
    "  training_file=file_id,\n",
    "  model=\"gpt-3.5-turbo\"\n",
    ")\n",
    "\n",
    "fine_tune_id = response['id']"
   ]
  },
  {
   "cell_type": "markdown",
   "id": "201cc4d7",
   "metadata": {},
   "source": [
    "### Monitor the process"
   ]
  },
  {
   "cell_type": "code",
   "execution_count": null,
   "id": "8f7b8935",
   "metadata": {},
   "outputs": [],
   "source": [
    "response = openai.FineTune.retrieve(id=fine_tune_id)\n",
    "status = response['status']\n",
    "print(f\"Estado del fine-tuning: {status}\")\n",
    "\n",
    "# List all fine-tunning works\n",
    "response = openai.FineTune.list()\n",
    "for fine_tune in response['data']:\n",
    "    print(fine_tune)"
   ]
  },
  {
   "cell_type": "markdown",
   "id": "a6d3e29f",
   "metadata": {},
   "source": [
    "### Use fine-tunning model"
   ]
  },
  {
   "cell_type": "code",
   "execution_count": null,
   "id": "f13cd66b",
   "metadata": {},
   "outputs": [],
   "source": [
    "response = openai.Completion.create(\n",
    "  model=\"davinci:ft-usuario-empresa-fecha\",  # Reemplaza con el ID de tu modelo afinado\n",
    "  prompt=\"Pregunta: ¿Cómo estás?\\n\",\n",
    "  max_tokens=50\n",
    ")\n",
    "\n",
    "response.choices[0].text"
   ]
  }
 ],
 "metadata": {
  "kernelspec": {
   "display_name": "Python 3 (ipykernel)",
   "language": "python",
   "name": "python3"
  },
  "language_info": {
   "codemirror_mode": {
    "name": "ipython",
    "version": 3
   },
   "file_extension": ".py",
   "mimetype": "text/x-python",
   "name": "python",
   "nbconvert_exporter": "python",
   "pygments_lexer": "ipython3",
   "version": "3.12.3"
  }
 },
 "nbformat": 4,
 "nbformat_minor": 5
}
