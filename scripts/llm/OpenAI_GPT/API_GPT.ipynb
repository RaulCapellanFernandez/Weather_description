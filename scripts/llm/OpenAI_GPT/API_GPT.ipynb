{
 "cells": [
  {
   "cell_type": "code",
   "execution_count": 28,
   "id": "c071ece5",
   "metadata": {},
   "outputs": [],
   "source": [
    "import os\n",
    "from openai import OpenAI, AsyncOpenAI\n",
    "from dotenv import load_dotenv\n",
    "\n",
    "# access API_KEYS\n",
    "client = OpenAI(\n",
    "  api_key=os.environ['OPENAI_API_KEY'],\n",
    ")"
   ]
  },
  {
   "cell_type": "markdown",
   "id": "013913bb",
   "metadata": {},
   "source": [
    "### System Content:\n",
    "- Indicate the behaviour for genearating a respones based on the problem to solve\n",
    "- Indicating the lower and upper threshold for each varaible\n"
   ]
  },
  {
   "cell_type": "code",
   "execution_count": 56,
   "id": "e93e14d4",
   "metadata": {},
   "outputs": [],
   "source": [
    "system_content = \"\"\"\n",
    "You are tasked with describing clouds in relation to different weather phenomena, such as rain, imminent rain, cyclones, and anticyclones. \n",
    "Your descriptions should be based on the following five key variables: Cloud Base, High Cloud, Low Cloud, Medium Cloud, and Total Cloud.  \n",
    "\n",
    "Here are the guidelines for each variable:\\n\\n1. \n",
    "**Cloud Base**: Describe the altitude and its implication for weather conditions.\\n    \n",
    "    - Example: 'The cloud base is low, indicating the potential for rain.'\\n\\n2. \n",
    "**High Cloud**: Describe the presence and type of high-altitude clouds, indicating weather patterns.\\n    \n",
    "    - Example: 'High cirrus clouds are present, suggesting fair weather.'\\n\\n3. \n",
    "**Low Cloud**: Focus on the type and density of low-altitude clouds and their weather implications.\\n    \n",
    "    - Example: 'Low, dense clouds are covering the sky, indicating heavy rain.'\\n\\n4. \n",
    "**Medium Cloud**: Describe the mid-level clouds and what they indicate about the weather.\\n    \n",
    "    - Example: 'Medium-altitude cumulus clouds suggest possible light showers.'\\n\\n5. \n",
    "**Total Cloud**: Provide an overall assessment of cloud coverage and its impact on weather.\\n    \n",
    "    - Example: 'The sky is completely overcast with total cloud coverage, likely leading to continuous rain.'\n",
    "\n",
    "### \\n\\nThresholds of the varaibles:\\n\\n. \n",
    "\"Cloud Base\": {\n",
    "    \"0-2000\": \"The cloud base is low, indicating the potential for rain.\",\n",
    "    \"2001-4000\": \"The cloud base is at a moderate altitude, suggesting stable weather conditions.\",\n",
    "    \"4001-6000\": \"The cloud base is relatively high, typically indicating fair weather.\",\n",
    "    \"6000+\": \"The cloud base is very high, indicating clear and stable weather with no immediate precipitation.\"\n",
    "  },\n",
    "\"High Cloud\": {\n",
    "    \"0.0-0.25\": \"Few to no high clouds, indicating clear skies.\",\n",
    "    \"0.26-0.50\": \"Moderate presence of high clouds, suggesting fair weather with some cloud cover.\",\n",
    "    \"0.51-0.75\": \"Significant presence of high clouds, indicating possible changes in weather.\",\n",
    "    \"0.76-1\": \"High cloud cover is dense, suggesting an approaching front or significant weather changes.\"\n",
    "  },\n",
    "\"Low Cloud\": {\n",
    "    \"0.0-0.25\": \"Few to no low clouds, indicating clear or fair weather.\",\n",
    "    \"0.26-0.50\": \"Moderate presence of low clouds, suggesting possible light showers.\",\n",
    "    \"0.51-0.75\": \"Significant presence of low clouds, indicating potential for rain or overcast conditions.\",\n",
    "    \"0.76-1\": \"Dense low cloud cover, suggesting overcast conditions with heavy rain likely.\"\n",
    "  },\n",
    "\"Medium Cloud\": {\n",
    "    \"0.0-0.25\": \"Few to no medium clouds, indicating stable weather.\",\n",
    "    \"0.26-0.50\": \"Moderate presence of medium clouds, suggesting potential for light showers.\",\n",
    "    \"0.51-0.75\": \"Significant presence of medium clouds, indicating changes in weather conditions.\",\n",
    "    \"0.76-1\": \"Dense medium cloud cover, suggesting potential for continuous rain or storms.\"\n",
    "  },\n",
    "\"Total Cloud\": {\n",
    "    \"0.0-0.25\": \"Clear sky with minimal cloud cover, indicating no significant weather activity.\",\n",
    "    \"0.26-0.50\": \"Partly cloudy sky, suggesting fair weather with some cloud presence.\",\n",
    "    \"0.51-0.75\": \"Mostly cloudy sky, indicating overcast conditions with potential for light rain.\",\n",
    "    \"0.76-1\": \"Completely overcast sky, likely leading to continuous rain.\"\n",
    "  }\n",
    "    \n",
    "\\n\\nHere are sample descriptions for specific weather phenomena:\\n\\n \n",
    "- **Raining**: 'Low, dense clouds dominate the sky, indicating heavy rain with a low cloud base. Medium clouds add to the overcast conditions.'\\n-\n",
    "- **Going to Rain**: 'The cloud base is lowering with increasing total cloud coverage. Medium clouds are thickening, suggesting imminent rain.'\\n- \n",
    "- **Cyclone**: 'Total cloud coverage with a mix of high cirrus and low dense clouds, indicating the presence of a cyclone. The cloud base is significantly low.'\\n- \n",
    "- **Anticyclone**: 'High cirrus clouds are scattered with minimal total cloud coverage, indicating fair weather associated with an anticyclone.'\\n\\n\n",
    "\n",
    "### Weather Predictions Based on Cloud Data:\\n\\n1. \n",
    "**Precipitation**:\\n    \n",
    "    - **Rain**: Presence of low, dense, and thick clouds like nimbostratus or cumulonimbus suggests rain or thunderstorms.\\n    \n",
    "    - **Snow**: Similar to rain, but typically observed in colder conditions. Thick, low clouds can indicate snowfall.\\n\\n2. \n",
    "**Clear Weather**:\\n    \n",
    "    - **Fair Weather**: High, wispy clouds like cirrus indicate fair weather. Scattered cumulus clouds can also suggest clear skies.\\n\\n3. \n",
    "**Storms and Severe Weather**:\\n    \n",
    "    - **Thunderstorms**: Tall, towering cumulonimbus clouds are a strong indicator of thunderstorms, possibly with lightning, heavy rain, and hail.\\n    \n",
    "    - **Cyclones**: Total cloud coverage with organized patterns, including low dense clouds and high cirrus clouds, can indicate cyclonic activity.\\n\\n4. \n",
    "**Imminent Weather Changes**:\\n    \n",
    "    - **Incoming Rain**: Lowering cloud base with increasing medium and low cloud coverage can suggest imminent rain.\\n   \n",
    "    - **Fronts and Changes in Weather**: The presence of certain clouds like altostratus can indicate a warm front, which often precedes longer periods of precipitation.\\n\\n5. \n",
    "**Atmospheric Stability**:\\n    \n",
    "    - **Stable Atmosphere**: High, thin clouds like cirrostratus or cirrocumulus indicate a stable atmosphere, often leading to calm weather.\\n    \n",
    "    - **Unstable Atmosphere**: Presence of towering cumulus or cumulonimbus clouds indicates an unstable atmosphere, likely leading to storms.\\n\\n\n",
    "    \n",
    "By following these guidelines, you can effectively describe the observed clouds, infer weather conditions, and make predictions concisely.\n",
    "    \n",
    "Provide your descriptions in a maximum of three sentences.\n",
    "\n",
    "**Do not mention the name of the varaibles Cloud base, High cloud, Low cloud, Medium cloud and Total cloud**\n",
    "\"\"\""
   ]
  },
  {
   "cell_type": "markdown",
   "id": "55643ec3",
   "metadata": {},
   "source": [
    "### User Content:\n",
    "- Indicate the promnt to generate a description for the different varaibles of the clouds in this case"
   ]
  },
  {
   "cell_type": "code",
   "execution_count": 62,
   "id": "1d246244",
   "metadata": {},
   "outputs": [],
   "source": [
    "user_content = {\n",
    "                  \"cloud_bae\"   : 2000,\n",
    "                  \"cloud_high\"  : 0.20,\n",
    "                  \"cloud_low\"   : 0.5,\n",
    "                  \"cloud_mid\"   : 0.74,\n",
    "                  \"cloud_total\" : 0.80\n",
    "                }\n",
    "\n",
    "prompt = f\"\"\"\n",
    "            The weather data is as follows:\n",
    "            Cloud Base: {user_content['cloud_base']} meters\n",
    "            High Cloud: {user_content['cloud_high']*100}%\n",
    "            Low Cloud:  {user_content['cloud_low']*100}%\n",
    "            Medium Cloud: {user_content['cloud_mid']*100}%\n",
    "            Total Cloud: {user_content['cloud_total']*100}%\n",
    "\n",
    "            Based on this data, provide an analysis of the cloud coverage and any potential implications for weather conditions.\n",
    "        \"\"\""
   ]
  },
  {
   "cell_type": "code",
   "execution_count": 63,
   "id": "426f7d68",
   "metadata": {},
   "outputs": [],
   "source": [
    "client = AsyncOpenAI()\n",
    "completion = await client.chat.completions.create(\n",
    "    model=\"gpt-4o\", \n",
    "    messages= [\n",
    "    {\n",
    "        \"role\": \"system\",\n",
    "        \"content\": system_content\n",
    "    },\n",
    "    \n",
    "    {\n",
    "        \"role\": \"user\",\n",
    "        \"content\": prompt\n",
    "    }\n",
    "  ],\n",
    "  temperature=0.7\n",
    ")"
   ]
  },
  {
   "cell_type": "code",
   "execution_count": 64,
   "id": "768b2472",
   "metadata": {},
   "outputs": [
    {
     "name": "stdout",
     "output_type": "stream",
     "text": [
      "ChatCompletionMessage(content='The cloud base is at a moderate altitude, suggesting stable weather conditions. Moderate high clouds indicate mostly clear skies at higher altitudes, while significant presence of low clouds suggests the potential for rain or overcast conditions. Dense medium clouds contribute to an almost completely overcast sky, indicating imminent rain is likely.', role='assistant', function_call=None, tool_calls=None)\n"
     ]
    }
   ],
   "source": [
    "print(completion.choices[0].message)"
   ]
  }
 ],
 "metadata": {
  "kernelspec": {
   "display_name": "Python 3 (ipykernel)",
   "language": "python",
   "name": "python3"
  },
  "language_info": {
   "codemirror_mode": {
    "name": "ipython",
    "version": 3
   },
   "file_extension": ".py",
   "mimetype": "text/x-python",
   "name": "python",
   "nbconvert_exporter": "python",
   "pygments_lexer": "ipython3",
   "version": "3.12.3"
  }
 },
 "nbformat": 4,
 "nbformat_minor": 5
}
