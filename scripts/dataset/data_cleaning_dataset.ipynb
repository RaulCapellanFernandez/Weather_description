{
 "cells": [
  {
   "cell_type": "code",
   "execution_count": 1,
   "id": "8646c527-8060-4a1e-b07c-c553f2663665",
   "metadata": {},
   "outputs": [],
   "source": [
    "import os\n",
    "import pandas as pd\n",
    "from glob import glob\n",
    "from datetime import datetime as dt"
   ]
  },
  {
   "cell_type": "code",
   "execution_count": 2,
   "id": "7c5d9d6c-d034-4be1-bb4d-79c15bdee35c",
   "metadata": {},
   "outputs": [],
   "source": [
    "path_images = glob(os.path.join('..', 'resources', 'snapshot-ai', '*'))"
   ]
  },
  {
   "cell_type": "code",
   "execution_count": 3,
   "id": "8ca5fb55-b214-477e-998c-f187f1d7c1e4",
   "metadata": {},
   "outputs": [],
   "source": [
    "location_names_imag = [ '_'.join((os.path.splitext(os.path.basename(path))[0].split('-')[:-2])) for path in path_images]\n",
    "dates_image         = [''.join((os.path.basename(path).split('-')[-2])) for path in path_images]\n",
    "time_stamp_image    = [''.join((os.path.splitext(os.path.basename(path))[0].split('-')[-1])) for path in path_images]\n",
    "time_stamp_image    = [date + time_stamp for date, time_stamp in zip(dates_image, time_stamp_image)]\n",
    "formatted_times     = [dt.strftime(dt.strptime(ts, '%Y%m%d%H%M%S'), '%Y-%m-%d %H:%M:%S') for ts in time_stamp_image]"
   ]
  },
  {
   "cell_type": "code",
   "execution_count": 4,
   "id": "5c794bcd-b480-4924-9a94-a0b83d2617ef",
   "metadata": {},
   "outputs": [],
   "source": [
    "df = pd.DataFrame({\n",
    "    'location': location_names_imag,\n",
    "    'dateTime': formatted_times,\n",
    "    'path': path_images\n",
    "})"
   ]
  },
  {
   "cell_type": "code",
   "execution_count": 5,
   "id": "d172e749-2e37-4ed1-9638-e3ce68f84ed3",
   "metadata": {},
   "outputs": [
    {
     "data": {
      "text/plain": [
       "location\n",
       "albentosa                        3240\n",
       "alcala_de_la_selva_san_rafael    3020\n",
       "el_pobo                           722\n",
       "Name: count, dtype: int64"
      ]
     },
     "execution_count": 5,
     "metadata": {},
     "output_type": "execute_result"
    }
   ],
   "source": [
    "df.location.value_counts()"
   ]
  }
 ],
 "metadata": {
  "kernelspec": {
   "display_name": "Python 3 (ipykernel)",
   "language": "python",
   "name": "python3"
  },
  "language_info": {
   "codemirror_mode": {
    "name": "ipython",
    "version": 3
   },
   "file_extension": ".py",
   "mimetype": "text/x-python",
   "name": "python",
   "nbconvert_exporter": "python",
   "pygments_lexer": "ipython3",
   "version": "3.12.3"
  }
 },
 "nbformat": 4,
 "nbformat_minor": 5
}
