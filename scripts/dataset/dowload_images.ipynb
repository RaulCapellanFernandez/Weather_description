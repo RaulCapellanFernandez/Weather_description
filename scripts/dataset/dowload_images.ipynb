{
 "cells": [
  {
   "cell_type": "markdown",
   "id": "5633182b-57da-4963-8f4d-a372e84b0f0a",
   "metadata": {},
   "source": [
    "### Download images\n",
    "- **Windy**"
   ]
  },
  {
   "cell_type": "code",
   "execution_count": 2,
   "id": "f0599795-08b3-4364-95f2-d29fa7b59ba0",
   "metadata": {},
   "outputs": [],
   "source": [
    "import os\n",
    "import pandas as pd\n",
    "import datetime as dt"
   ]
  },
  {
   "cell_type": "code",
   "execution_count": 11,
   "id": "0072c618-4932-41ca-a9c7-16a3daa95497",
   "metadata": {},
   "outputs": [],
   "source": [
    "URL_WINDY      = 'https://archive-webcams.windy.com'\n",
    "INIT_TIMESTAMP = 0 "
   ]
  },
  {
   "cell_type": "code",
   "execution_count": 3,
   "id": "ee83ecc6-7a12-45c7-85b0-b01a00b34449",
   "metadata": {},
   "outputs": [],
   "source": [
    "camera_config = [\n",
    "    {\n",
    "        'id_camera': '1609111150',\n",
    "        'lat'      : 0,\n",
    "        'lon'      : 0,\n",
    "        'url'      : 'http://www.eltiempoenleon.es',\n",
    "        'height'   : 837\n",
    "    }\n",
    "]"
   ]
  },
  {
   "cell_type": "markdown",
   "id": "53ce83c4-5a9b-46d4-8753-5fb1aa9ce01e",
   "metadata": {},
   "source": [
    "## Generate the urls for windy\n",
    "### In the web cam from N42°36'16\", W5°33'32\"\n",
    "- The images are generated each hour with a little bit of delay.\n",
    "- The images are generated with a time stamp, in seconds"
   ]
  },
  {
   "cell_type": "code",
   "execution_count": 18,
   "id": "f71f8edd-0c38-435a-9cfc-288abb09e0a9",
   "metadata": {},
   "outputs": [],
   "source": [
    "for camera in camera_config :\n",
    "    url_windy_aux = '/'.join((\n",
    "        URL_WINDY,\n",
    "        camera['id_camera'][-2:],\n",
    "        camera['id_camera'],\n",
    "        'day',\n",
    "        'full',\n",
    "        f'{camera['id_camera']}@{INIT_TIMESTAMP}.jpg'\n",
    "    ))"
   ]
  },
  {
   "cell_type": "code",
   "execution_count": 19,
   "id": "b58f3768-717c-47df-ae42-0b286e6e10ab",
   "metadata": {},
   "outputs": [
    {
     "data": {
      "text/plain": [
       "'https://archive-webcams.windy.com/50/1609111150/day/full/1609111150@0.jpg'"
      ]
     },
     "execution_count": 19,
     "metadata": {},
     "output_type": "execute_result"
    }
   ],
   "source": [
    "url_windy_aux"
   ]
  },
  {
   "cell_type": "code",
   "execution_count": null,
   "id": "db79f238-890b-42a4-8edf-bf025406720a",
   "metadata": {},
   "outputs": [],
   "source": []
  }
 ],
 "metadata": {
  "kernelspec": {
   "display_name": "Python 3 (ipykernel)",
   "language": "python",
   "name": "python3"
  },
  "language_info": {
   "codemirror_mode": {
    "name": "ipython",
    "version": 3
   },
   "file_extension": ".py",
   "mimetype": "text/x-python",
   "name": "python",
   "nbconvert_exporter": "python",
   "pygments_lexer": "ipython3",
   "version": "3.12.2"
  }
 },
 "nbformat": 4,
 "nbformat_minor": 5
}
