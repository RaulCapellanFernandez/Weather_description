{
 "cells": [
  {
   "cell_type": "markdown",
   "id": "5633182b-57da-4963-8f4d-a372e84b0f0a",
   "metadata": {},
   "source": [
    "### Download images\n",
    "- **Windy**"
   ]
  },
  {
   "cell_type": "code",
   "execution_count": 1,
   "id": "f0599795-08b3-4364-95f2-d29fa7b59ba0",
   "metadata": {},
   "outputs": [],
   "source": [
    "import os\n",
    "import time\n",
    "import requests\n",
    "import pandas as pd\n",
    "from datetime import UTC\n",
    "from datetime import datetime as dt"
   ]
  },
  {
   "cell_type": "code",
   "execution_count": 2,
   "id": "0072c618-4932-41ca-a9c7-16a3daa95497",
   "metadata": {},
   "outputs": [],
   "source": [
    "URL_WINDY      = 'https://archive-webcams.windy.com'\n",
    "INIT_TIMESTAMP = 0 \n",
    "PATH_DOWNLOADS = os.path.join('..', '..', 'resources', 'images_windy')\n",
    "\n",
    "if os.path.isdir(PATH_DOWNLOADS) == False :\n",
    "    os.makedirs(PATH_DOWNLOADS)"
   ]
  },
  {
   "cell_type": "code",
   "execution_count": 3,
   "id": "ee83ecc6-7a12-45c7-85b0-b01a00b34449",
   "metadata": {},
   "outputs": [],
   "source": [
    "CAMERA_CONFIG = [\n",
    "    {\n",
    "        'name_camera': 'Leon_north',\n",
    "        'id_camera': '1609111150',\n",
    "        'lat'      : 0,\n",
    "        'lon'      : 0,\n",
    "        'url'      : 'http://www.eltiempoenleon.es',\n",
    "        'height'   : 837\n",
    "    }\n",
    "]"
   ]
  },
  {
   "cell_type": "markdown",
   "id": "53ce83c4-5a9b-46d4-8753-5fb1aa9ce01e",
   "metadata": {},
   "source": [
    "## Generate the urls for windy\n",
    "### In the web cam from N42°36'16\", W5°33'32\"\n",
    "- The images are generated each hour with a little bit of delay.\n",
    "- The images are generated with a time stamp, in seconds"
   ]
  },
  {
   "cell_type": "code",
   "execution_count": 4,
   "id": "f71f8edd-0c38-435a-9cfc-288abb09e0a9",
   "metadata": {},
   "outputs": [],
   "source": [
    "def downloadImagesWindy (camera, time_stamp) :\n",
    "    date_ftmt = dt.strftime(dt.fromtimestamp(time_stamp, UTC), '%Y-%m-%d_%H-%M-%S')\n",
    "    \n",
    "    url_windy = '/'.join((\n",
    "        URL_WINDY,\n",
    "        camera['id_camera'][-2:],\n",
    "        camera['id_camera'],\n",
    "        'day',\n",
    "        'full',\n",
    "        f'{camera['id_camera']}@{time_stamp}.jpg'\n",
    "    ))\n",
    "\n",
    "    response = requests.get(url_windy)\n",
    "\n",
    "    print(url_windy)\n",
    "    if response.status_code == 200 :\n",
    "        final_path = os.path.join(PATH_DOWNLOADS, f\"{camera['name_camera']}_{date_ftmt}.jpg\")\n",
    "        with open(final_path, 'wb') as file :\n",
    "            file.write(response.content)\n",
    "        print(\"Image saved successfully!\")\n",
    "        return True\n",
    "    else:\n",
    "        print(f\"Failed to retrieve image. Status code: {response.status_code}\")\n",
    "        return False"
   ]
  },
  {
   "cell_type": "code",
   "execution_count": 5,
   "id": "b58f3768-717c-47df-ae42-0b286e6e10ab",
   "metadata": {},
   "outputs": [],
   "source": [
    "def recursiveImagesWindy (init_time_stamp, camera_config, id_camera, cont) :\n",
    "    if init_time_stamp == 0 :\n",
    "        init_time_stamp = int(dt.now().timestamp())\n",
    "    \n",
    "    time_stamp_aux  = init_time_stamp\n",
    "    for camera in camera_config :\n",
    "        if camera['id_camera'] == id_camera :\n",
    "            if downloadImagesWindy(camera, time_stamp_aux) or cont >= 90:\n",
    "                return True\n",
    "            else:\n",
    "               recursiveImagesWindy(init_time_stamp+1, camera_config, id_camera, cont+1) \n"
   ]
  },
  {
   "cell_type": "code",
   "execution_count": null,
   "id": "db79f238-890b-42a4-8edf-bf025406720a",
   "metadata": {},
   "outputs": [
    {
     "name": "stdout",
     "output_type": "stream",
     "text": [
      "https://archive-webcams.windy.com/50/1609111150/day/full/1609111150@1725874368.jpg\n",
      "Image saved successfully!\n"
     ]
    }
   ],
   "source": [
    "if __name__ == '__main__' :\n",
    "    while True :\n",
    "        recursiveImagesWindy (1725874368, CAMERA_CONFIG, '1609111150', 0)\n",
    "        time.sleep(3600)"
   ]
  }
 ],
 "metadata": {
  "kernelspec": {
   "display_name": "Python 3 (ipykernel)",
   "language": "python",
   "name": "python3"
  },
  "language_info": {
   "codemirror_mode": {
    "name": "ipython",
    "version": 3
   },
   "file_extension": ".py",
   "mimetype": "text/x-python",
   "name": "python",
   "nbconvert_exporter": "python",
   "pygments_lexer": "ipython3",
   "version": "3.12.3"
  }
 },
 "nbformat": 4,
 "nbformat_minor": 5
}
